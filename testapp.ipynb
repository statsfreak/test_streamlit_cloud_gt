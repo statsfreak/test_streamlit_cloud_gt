{
 "cells": [
  {
   "cell_type": "code",
   "execution_count": 3,
   "id": "c90fd897",
   "metadata": {},
   "outputs": [
    {
     "name": "stdout",
     "output_type": "stream",
     "text": [
      "Overwriting testapp.py\n"
     ]
    }
   ],
   "source": [
    "%%writefile testapp.py\n",
    "import streamlit as st\n",
    "import catboost\n",
    "\n",
    "import json\n",
    "import os\n",
    "import pickle\n",
    "import streamlit as st\n",
    "import pandas as pd\n",
    "from snowflake.snowpark import Session\n",
    "import warnings\n",
    "from typing import Dict\n",
    "\n",
    "\n",
    "from matplotlib import container\n",
    "import matplotlib.pyplot as plt\n",
    "import streamlit as st\n",
    "import altair as alt\n",
    "from wordcloud import WordCloud, STOPWORDS\n",
    "\n",
    "\n",
    "from snowflake.snowpark import Session, Row\n",
    "from snowflake.snowpark.functions import call_udf, col\n",
    "from snowflake.snowpark import functions as f\n",
    "\n",
    "from st_aggrid import GridOptionsBuilder, AgGrid, GridUpdateMode, DataReturnMode, JsCode\n",
    "import openai\n",
    "import requests\n",
    "\n",
    "from langchain.text_splitter import CharacterTextSplitter\n",
    "from langchain.vectorstores import Chroma\n",
    "from langchain import OpenAI, VectorDBQA\n",
    "from langchain.embeddings.openai import OpenAIEmbeddings\n",
    "from langchain.prompts import PromptTemplate\n",
    "\n",
    "from sentence_transformers import SentenceTransformer\n",
    "import faiss\n",
    "import numpy as np\n",
    "\n",
    "connection_parameters = {\n",
    "  \"account\": os.environ[\"account\"],\n",
    "  \"user\": os.environ[\"username\"],\n",
    "  \"password\": os.environ[\"password\"],\n",
    "  \"role\": \"esg_hackathon_role\",\n",
    "  \"warehouse\": \"hackathon_wh\",\n",
    "  \"database\": \"HACKATHON_ESG_BASE\",\n",
    "  \"schema\": \"analytics\"\n",
    "}\n",
    "\n",
    "session = Session.builder.configs(connection_parameters).create()\n",
    "def add_bg_from_url():\n",
    "    st.markdown(\n",
    "         f\"\"\"\n",
    "         <style>\n",
    "         .stApp {{\n",
    "             #background-image: url(\"https://cdn.pixabay.com/photo/2016/10/05/03/36/blue-1716030_1280.jpg\");\n",
    "             background-image: linear-gradient(rgba(255, 255, 255, 0.5), rgba(255, 255, 255, 0.75)), url(\"https://cdn.pixabay.com/photo/2016/10/05/03/36/blue-1716030_1280.jpg\");\n",
    "             background-attachment: fixed;\n",
    "             background-size: cover\n",
    "         }}\n",
    "         </style>\n",
    "         \"\"\",\n",
    "         unsafe_allow_html=True\n",
    "     )\n",
    "\n",
    "add_bg_from_url() "
   ]
  }
 ],
 "metadata": {
  "kernelspec": {
   "display_name": "Python 3 (ipykernel)",
   "language": "python",
   "name": "python3"
  },
  "language_info": {
   "codemirror_mode": {
    "name": "ipython",
    "version": 3
   },
   "file_extension": ".py",
   "mimetype": "text/x-python",
   "name": "python",
   "nbconvert_exporter": "python",
   "pygments_lexer": "ipython3",
   "version": "3.8.15"
  }
 },
 "nbformat": 4,
 "nbformat_minor": 5
}
